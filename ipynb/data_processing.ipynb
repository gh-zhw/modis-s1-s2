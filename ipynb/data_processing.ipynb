{
 "cells": [
  {
   "cell_type": "code",
   "execution_count": null,
   "source": [
    "from osgeo import gdal\r\n",
    "import numpy as np"
   ],
   "outputs": [],
   "metadata": {}
  },
  {
   "cell_type": "code",
   "execution_count": null,
   "source": [
    "def tif2npy(tif_path, output_path, image_class):\r\n",
    "    ds = gdal.Open(tif_path)\r\n",
    "    if ds is None:\r\n",
    "        print(\"No such file !\")\r\n",
    "\r\n",
    "    image = ds.ReadAsArray(0, 0, ds.RasterXSize, ds.RasterYSize)\r\n",
    "\r\n",
    "    # 有效范围截断\r\n",
    "    if image_class == \"S1\":\r\n",
    "        np.clip(image, -50, 1, out=image)\r\n",
    "    elif image_class == \"S2\":\r\n",
    "        np.clip(image, 0, 10000, out=image)\r\n",
    "    \r\n",
    "    if image_class == \"S2\":\r\n",
    "        selected_bands = [1, 2, 3, 4, 7, 8, 10, 11]\r\n",
    "    elif image_class == \"S1\":\r\n",
    "        selected_bands = [0, 1]\r\n",
    "    elif image_class == \"MODIS\":\r\n",
    "        selected_bands = [0, 1, 2, 3, 5, 6]\r\n",
    "\r\n",
    "    image = image[selected_bands, :, :]\r\n",
    "    # S2: (8, 250, 250), S1: (2, 250, 250), MODIS: (6, 5, 5)\r\n",
    "    np.save(output_path, image)\r\n",
    "\r\n",
    "    ds = None\r\n",
    "\r\n",
    "    print(\"Successfully convert\", tif_path, \"to\", output_path)\r\n",
    "    \r\n",
    "    return True"
   ],
   "outputs": [],
   "metadata": {}
  },
  {
   "cell_type": "code",
   "execution_count": null,
   "source": [
    "import os\r\n",
    "\r\n",
    "def get_files_by_type(folder_path, file_type):\r\n",
    "    file_paths = []\r\n",
    "    for root, dirs, files in os.walk(folder_path):\r\n",
    "        for file in files:\r\n",
    "            if file.endswith(file_type):\r\n",
    "                file_paths.append(os.path.join(root, file))\r\n",
    "    return file_paths\r\n",
    "\r\n",
    "def categorize_files_by_keyword(file_paths, keywords):\r\n",
    "    categorized_files = {keyword: [] for keyword in keywords}\r\n",
    "    \r\n",
    "    for file_path in file_paths:\r\n",
    "        for keyword in keywords:\r\n",
    "            if keyword in file_path:\r\n",
    "                categorized_files[keyword].append(file_path)\r\n",
    "    \r\n",
    "    return categorized_files\r\n",
    "\r\n",
    "folder_path = r\"D:\\ENVI\\data\\NingBo\\NB_roi\\cropped_data\"\r\n",
    "\r\n",
    "file_type = \".tif\"\r\n",
    "\r\n",
    "keywords = [\"MODIS\", \"S1\", \"S2\"]\r\n",
    "\r\n",
    "file_paths = get_files_by_type(folder_path, file_type)\r\n",
    "\r\n",
    "categorized_files = categorize_files_by_keyword(file_paths, keywords)\r\n",
    "\r\n",
    "# for keyword, files in categorized_files.items():\r\n",
    "#     print(f\"Files with '{keyword}' in the path:\")\r\n",
    "#     for file in files:\r\n",
    "#         print(file)\r\n",
    "#     print(\"\\n\")\r\n"
   ],
   "outputs": [],
   "metadata": {}
  },
  {
   "cell_type": "code",
   "execution_count": null,
   "source": [
    "for keyword, files in categorized_files.items():\r\n",
    "    print(keyword)\r\n",
    "    for file_path in files:\r\n",
    "        output_path = file_path.replace(r\"D:\\ENVI\\data\\NingBo\\NB_roi\\cropped_data\", r\"D:\\Code\\MODIS_S1_S2\\dataset\\SatelliteImages\").replace(\"tif\", \"npy\")\r\n",
    "        tif2npy(file_path, output_path, image_class=keyword)"
   ],
   "outputs": [],
   "metadata": {}
  },
  {
   "cell_type": "code",
   "execution_count": null,
   "source": [
    "image = np.load(r\"D:\\Code\\MODIS_S1_S2\\dataset\\SatelliteImages\\train\\MODIS\\MODIS_0.npy\")\r\n",
    "\r\n",
    "min_val = np.min(image)\r\n",
    "max_val = np.max(image)\r\n",
    "mean = np.mean(image.reshape(-1))\r\n",
    "std = np.std(image.reshape(-1))\r\n",
    "\r\n",
    "print(min_val, max_val, mean, std)"
   ],
   "outputs": [],
   "metadata": {}
  },
  {
   "cell_type": "code",
   "execution_count": 1,
   "source": [
    "import sys\r\n",
    "sys.path.append(r'D:\\Code\\MODIS_S1_S2\\src')\r\n",
    "\r\n",
    "import glob\r\n",
    "from utils import calc_statistics\r\n",
    "import numpy as np\r\n",
    "\r\n",
    "MODIS_dir = r\"D:\\Code\\MODIS_S1_S2\\dataset\\SatelliteImages\\train\\MODIS\\MODIS_*.npy\"\r\n",
    "S1_dir = r\"D:\\Code\\MODIS_S1_S2\\dataset\\SatelliteImages\\train\\S1\\S1_*.npy\"\r\n",
    "S2_dir = r\"D:\\Code\\MODIS_S1_S2\\dataset\\SatelliteImages\\train\\S2\\S2_*.npy\"\r\n",
    "\r\n",
    "MODIS_image_paths = glob.glob(MODIS_dir)\r\n",
    "S1_image_paths = glob.glob(S1_dir)\r\n",
    "S2_image_paths = glob.glob(S2_dir)\r\n",
    "\r\n",
    "\r\n",
    "# min_val, max_val, mean, std = calc_statistics(MODIS_image_paths)\r\n",
    "# print(\"MODIS: \")\r\n",
    "# print(f\"min: {min_val}\\nmax: {max_val}\\nmean: {mean}\\nstd: {std}\")\r\n",
    "\r\n",
    "# min_val, max_val, mean, std = calc_statistics(S1_image_paths)\r\n",
    "# print(\"S1: \")\r\n",
    "# print(f\"min: {min_val}\\nmax: {max_val}\\nmean: {mean}\\nstd: {std}\")\r\n",
    "\r\n",
    "# min_val, max_val, mean, std = calc_statistics(S2_image_paths[:1500])\r\n",
    "# print(\"S2: \")\r\n",
    "# print(f\"min: {min_val}\\nmax: {max_val}\\nmean: {mean}\\nstd: {std}\")"
   ],
   "outputs": [
    {
     "output_type": "stream",
     "name": "stdout",
     "text": [
      "S2: \n",
      "min: [0 0 0 0 0 0 0 0]\n",
      "max: [10000 10000 10000 10000 10000 10000 10000 10000]\n",
      "mean: [ 978.62840361 1200.53972316 1157.46839859 1548.37047019 2613.07640004\n",
      " 2679.20647717 2024.73282798 1522.60639281]\n",
      "std: [ 576.94529047  588.16202837  634.95581889  635.59533807 1116.8635003\n",
      " 1132.44639616  822.60875038  753.66252027]\n"
     ]
    }
   ],
   "metadata": {}
  }
 ],
 "metadata": {
  "orig_nbformat": 4,
  "language_info": {
   "name": "python",
   "version": "3.9.16",
   "mimetype": "text/x-python",
   "codemirror_mode": {
    "name": "ipython",
    "version": 3
   },
   "pygments_lexer": "ipython3",
   "nbconvert_exporter": "python",
   "file_extension": ".py"
  },
  "kernelspec": {
   "name": "python3",
   "display_name": "Python 3.9.16 64-bit ('dl': conda)"
  },
  "interpreter": {
   "hash": "72218599f3e462b6cfb0374e23867e8f4de18e0d1a645225b63f6921d26b1799"
  }
 },
 "nbformat": 4,
 "nbformat_minor": 2
}