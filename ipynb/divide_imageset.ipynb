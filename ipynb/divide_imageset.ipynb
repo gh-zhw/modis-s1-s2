{
 "cells": [
  {
   "cell_type": "code",
   "execution_count": null,
   "metadata": {},
   "outputs": [],
   "source": [
    "import numpy as np"
   ]
  },
  {
   "cell_type": "code",
   "execution_count": null,
   "metadata": {},
   "outputs": [],
   "source": [
    "train_data_index_txt_path = r'D:\\Code\\modis-s1-s2\\dataset\\ImageSets\\train.txt'\n",
    "val_data_index_txt_path = r'D:\\Code\\modis-s1-s2\\dataset\\ImageSets\\val.txt'\n",
    "test_data_index_txt_path = r'D:\\Code\\modis-s1-s2\\dataset\\ImageSets\\test.txt'"
   ]
  },
  {
   "cell_type": "code",
   "execution_count": null,
   "metadata": {},
   "outputs": [],
   "source": [
    "# 训练数据数量\n",
    "N = 2620\n",
    "\n",
    "data_index = np.arange(N)\n",
    "np.random.shuffle(data_index)\n",
    "\n",
    "train_data_index = data_index[:int(N * 0.9)]\n",
    "val_data_index = data_index[int(N * 0.9):]\n",
    "test_data_index = list(range(N, N+231))\n",
    "\n",
    "print(len(train_data_index), len(val_data_index))"
   ]
  },
  {
   "cell_type": "code",
   "execution_count": null,
   "metadata": {},
   "outputs": [],
   "source": [
    "def data_index_to_txt(data_index, txt_path):\n",
    "    with open(txt_path, \"w\") as file:\n",
    "        image_path = \"\\n\".join([str(index) for index in data_index])\n",
    "        file.write(image_path + \"\\n\")"
   ]
  },
  {
   "cell_type": "code",
   "execution_count": null,
   "metadata": {},
   "outputs": [],
   "source": [
    "data_index_to_txt(train_data_index, train_data_index_txt_path)\n",
    "data_index_to_txt(val_data_index, val_data_index_txt_path)\n",
    "data_index_to_txt(test_data_index, test_data_index_txt_path)"
   ]
  }
 ],
 "metadata": {
  "language_info": {
   "name": "python"
  }
 },
 "nbformat": 4,
 "nbformat_minor": 2
}
