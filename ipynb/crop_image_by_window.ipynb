{
 "cells": [
  {
   "cell_type": "code",
   "execution_count": 1,
   "source": [
    "from osgeo import gdal\r\n",
    "import numpy as np"
   ],
   "outputs": [],
   "metadata": {}
  },
  {
   "cell_type": "code",
   "execution_count": 2,
   "source": [
    "def crop_by_slide_window(image_path, output_folder, window_size, step_size, image_class):\r\n",
    "    global S2_count\r\n",
    "    global MODIS_count\r\n",
    "    global S1_count\r\n",
    "\r\n",
    "    ds = gdal.Open(image_path)\r\n",
    "    if ds is None:\r\n",
    "        print(f\"No such path: {image_path}\")\r\n",
    "        return False\r\n",
    "\r\n",
    "    # 获取图像的宽度和高度\r\n",
    "    width = ds.RasterXSize\r\n",
    "    height = ds.RasterYSize\r\n",
    "\r\n",
    "    # 计算滑动窗口的数量\r\n",
    "    num_windows_width = (width - window_size) // step_size + 1\r\n",
    "    num_windows_height = (height - window_size) // step_size + 1\r\n",
    "\r\n",
    "    # 对每个滑动窗口进行裁剪\r\n",
    "    for i in range(num_windows_width):\r\n",
    "        for j in range(num_windows_height):\r\n",
    "            if image_class == \"S2\":\r\n",
    "                count = S2_count\r\n",
    "                S2_count += 1\r\n",
    "            elif image_class == \"S1\":\r\n",
    "                count = S1_count\r\n",
    "                S1_count += 1\r\n",
    "            elif image_class == \"MODIS\":\r\n",
    "                count = MODIS_count\r\n",
    "                MODIS_count += 1\r\n",
    "\r\n",
    "            # 计算滑动窗口的起始坐标\r\n",
    "            start_x = i * step_size\r\n",
    "            start_y = j * step_size\r\n",
    "\r\n",
    "            # 读取滑动窗口中的数据\r\n",
    "            image = ds.ReadAsArray(start_x, start_y, window_size, window_size)\r\n",
    "\r\n",
    "            # 创建新的tif文件来保存裁剪后的图像\r\n",
    "            driver = gdal.GetDriverByName('GTiff')\r\n",
    "            out_ds = driver.Create(output_folder + image_class + f\"_{count}.tif\", window_size, window_size, ds.RasterCount, gdal.GDT_Int16)\r\n",
    "\r\n",
    "            # 将裁剪后的图像数据写入新的tif文件\r\n",
    "            for k in range(ds.RasterCount):\r\n",
    "                out_band = out_ds.GetRasterBand(k + 1)\r\n",
    "                out_band.WriteArray(image[k])\r\n",
    "\r\n",
    "            # 设置新tif文件的地理变换参数和投影信息\r\n",
    "            geo_transform = list(ds.GetGeoTransform())\r\n",
    "            geo_transform[0] += start_x * geo_transform[1]\r\n",
    "            geo_transform[3] += start_y * geo_transform[5]\r\n",
    "            out_ds.SetGeoTransform(geo_transform)\r\n",
    "            out_ds.SetProjection(ds.GetProjection())\r\n",
    "\r\n",
    "            # 关闭新tif文件\r\n",
    "            out_ds = None\r\n",
    "\r\n",
    "    # 关闭原始tif文件\r\n",
    "    ds = None\r\n",
    "\r\n",
    "    print(\"Successfully crop \" + image_path)\r\n",
    "    return True"
   ],
   "outputs": [],
   "metadata": {}
  },
  {
   "cell_type": "code",
   "execution_count": 3,
   "source": [
    "import pandas as pd\r\n",
    "\r\n",
    "file_path = r'D:\\ENVI\\data\\NingBo\\NB_roi_new\\data_time_matching.xlsx'\r\n",
    "excel_file = pd.ExcelFile(file_path)\r\n",
    "\r\n",
    "sheet_names = excel_file.sheet_names\r\n",
    "\r\n",
    "columns_to_read = ['S2_target', 'MODIS', 'S1']\r\n",
    "\r\n",
    "image_date_dict = {}\r\n",
    "\r\n",
    "for sheet_name in sheet_names:\r\n",
    "    df = pd.read_excel(file_path, sheet_name=sheet_name, usecols=columns_to_read)\r\n",
    "    image_date_dict[sheet_name] = df\r\n",
    "    "
   ],
   "outputs": [],
   "metadata": {}
  },
  {
   "cell_type": "code",
   "execution_count": 4,
   "source": [
    "print(image_date_dict.keys())"
   ],
   "outputs": [
    {
     "output_type": "stream",
     "name": "stdout",
     "text": [
      "dict_keys(['NB_roi_1', 'NB_roi_2', 'NB_roi_3', 'NB_roi_4', 'NB_roi_5', 'NB_roi_6', 'NB_roi_7', 'NB_roi_8', 'NB_roi_test'])\n"
     ]
    }
   ],
   "metadata": {}
  },
  {
   "cell_type": "code",
   "execution_count": 8,
   "source": [
    "S2_count = 0\r\n",
    "MODIS_count = 0\r\n",
    "S1_count = 0\r\n",
    "\r\n",
    "for roi in image_date_dict.keys():\r\n",
    "    S2_date = image_date_dict[roi][\"S2_target\"].tolist()\r\n",
    "    MODIS_date = image_date_dict[roi][\"MODIS\"].tolist()\r\n",
    "    S1_date = image_date_dict[roi][\"S1\"].tolist()\r\n",
    "\r\n",
    "    S2_image_path = [r\"D:\\ENVI\\data\\NingBo\\NB_roi_new\\S2\\{}\\{}_S2_{}.tif\".format(roi, roi, date) for date in S2_date]\r\n",
    "    MODIS_image_path = [r\"D:\\ENVI\\data\\NingBo\\NB_roi_new\\MODIS\\{}\\{}_MODIS_{}.tif\".format(roi, roi, date) for date in MODIS_date]\r\n",
    "    S1_image_path = [r\"D:\\ENVI\\data\\NingBo\\NB_roi_new\\S1\\{}\\{}_S1_{}.tif\".format(roi, roi, date) for date in S1_date]\r\n",
    "\r\n",
    "    usage = \"test\" if roi == 'NB_roi_test' else \"train\"\r\n",
    "    print(usage)\r\n",
    "\r\n",
    "    for S2_path, MODIS_path, S1_path in zip(S2_image_path, MODIS_image_path, S1_image_path):\r\n",
    "        crop_by_slide_window(S2_path, r\"D:\\ENVI\\data\\NingBo\\NB_roi_new\\cropped_data\\\\\" + usage + r\"\\S2\\\\\", 250, 200, \"S2\")\r\n",
    "        crop_by_slide_window(MODIS_path, r\"D:\\ENVI\\data\\NingBo\\NB_roi_new\\cropped_data\\\\\" + usage + r\"\\MODIS\\\\\", 5, 4, \"MODIS\")\r\n",
    "        crop_by_slide_window(S1_path, r\"D:\\ENVI\\data\\NingBo\\NB_roi_new\\cropped_data\\\\\" + usage + r\"\\S1\\\\\", 250, 200, \"S1\")\r\n",
    "        print(S2_count)\r\n",
    "        print(MODIS_count)\r\n",
    "        print(S1_count)\r\n",
    "\r\n",
    "    # print(roi)\r\n",
    "    # print(S2_image_path, MODIS_image_path, S1_image_path)\r\n"
   ],
   "outputs": [
    {
     "output_type": "stream",
     "name": "stdout",
     "text": [
      "train\n",
      "train\n",
      "train\n",
      "train\n",
      "train\n",
      "train\n",
      "train\n",
      "train\n",
      "test\n"
     ]
    }
   ],
   "metadata": {}
  }
 ],
 "metadata": {
  "orig_nbformat": 4,
  "language_info": {
   "name": "python",
   "version": "3.7.9",
   "mimetype": "text/x-python",
   "codemirror_mode": {
    "name": "ipython",
    "version": 3
   },
   "pygments_lexer": "ipython3",
   "nbconvert_exporter": "python",
   "file_extension": ".py"
  },
  "kernelspec": {
   "name": "python3",
   "display_name": "Python 3.7.9 64-bit ('toolkit': conda)"
  },
  "interpreter": {
   "hash": "efc03b2bafdcf8fc645c48e52215266e32b7ecfd4791abc987b278ce04d52ee8"
  }
 },
 "nbformat": 4,
 "nbformat_minor": 2
}