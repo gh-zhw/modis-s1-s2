{
 "cells": [
  {
   "cell_type": "code",
   "execution_count": 1,
   "metadata": {},
   "outputs": [],
   "source": [
    "index = 2239\n",
    "\n",
    "g_S2_path = r\"D:\\Code\\modis-s1-s2\\output\\generated_image\\g_S2_\" + str(index) + \".npy\"\n",
    "real_S2_path = r\"D:\\Code\\modis-s1-s2\\output\\generated_image\\real_S2_\" + str(index) + \".npy\"\n",
    "before_S2_path = r\"D:\\Code\\modis-s1-s2\\output\\generated_image\\before_S2_\" + str(index) + \".npy\"\n",
    "after_S2_path = r\"D:\\Code\\modis-s1-s2\\output\\generated_image\\after_S2_\" + str(index) + \".npy\"\n",
    "\n",
    "g_S2_tif_path = r\"D:\\Code\\modis-s1-s2\\output\\generated_image\\g_S2_\" + str(index) + \".tif\"\n",
    "real_S2_tif_path = r\"D:\\Code\\modis-s1-s2\\output\\generated_image\\real_S2_\" + str(index) + \".tif\"\n",
    "before_S2_tif_path = r\"D:\\Code\\modis-s1-s2\\output\\generated_image\\before_S2_\" + str(index) + \".tif\"\n",
    "after_S2_tif_path = r\"D:\\Code\\modis-s1-s2\\output\\generated_image\\after_S2_\" + str(index) + \".tif\"\n",
    "\n",
    "tif_path = r\"D:\\ENVI\\data\\NingBo\\NB_roi\\cropped_data\\test\\S2\\S2_\" + str(index) + \".tif\"\n",
    "model_path = r\"D:\\Code\\modis-s1-s2\\model\\cGAN-S1\\wgan_generator_epoch_300.pth\""
   ]
  },
  {
   "cell_type": "code",
   "execution_count": 5,
   "metadata": {},
   "outputs": [
    {
     "name": "stdout",
     "output_type": "stream",
     "text": [
      "(8, 250, 250)\n"
     ]
    }
   ],
   "source": [
    "import torch\n",
    "import numpy as np\n",
    "import sys\n",
    "sys.path.append(r\"D:\\Code\\modis-s1-s2\\src\")\n",
    "# sys.path.append(r\"C:\\Users\\Administrator\\Desktop\\kaggle\\src-3\")\n",
    "from model import Generator\n",
    "from load_dataset import get_dataset\n",
    "\n",
    "def generate_image(generator, MODIS, S1, before, after, save_path=None):\n",
    "    generator.eval()\n",
    "    with torch.no_grad():\n",
    "        g_S2 = generator(MODIS, S1, before, after).cpu().numpy()\n",
    "    g_S2 = np.squeeze(g_S2)\n",
    "    g_S2 = (g_S2 + 1) / 2\n",
    "    g_S2 = (10000 - 0) * g_S2 + 0\n",
    "    g_S2 = np.clip(g_S2, 0, 10000)\n",
    "\n",
    "    if save_path is not None:\n",
    "        np.save(save_path, g_S2)\n",
    "    return g_S2\n",
    "\n",
    "coupled_data = get_dataset()[2][index-2194]\n",
    "MODIS_image, S1_image, S2_image, before_image, after_image = coupled_data\n",
    "MODIS_image = MODIS_image.reshape((1, 6, 5, 5)).cuda()\n",
    "S1_image = S1_image.reshape((1, 2, 250, 250)).cuda()\n",
    "real_S2_image = S2_image.reshape((1, 8, 250, 250)).cuda()\n",
    "before_image = before_image.reshape((1, 8, 250, 250)).cuda()\n",
    "after_image = after_image.reshape((1, 8, 250, 250)).cuda()\n",
    "generator = torch.load(model_path)\n",
    "g_S2 = generate_image(generator, MODIS_image, S1_image, before_image, after_image, g_S2_path)\n",
    "\n",
    "print(g_S2.shape)"
   ]
  },
  {
   "cell_type": "code",
   "execution_count": 3,
   "metadata": {},
   "outputs": [],
   "source": [
    "import numpy as np\n",
    "\n",
    "def denormalization(norm_s2):\n",
    "    norm_s2 = (10000 - 0) * norm_s2 + 0\n",
    "    s2 = np.clip(norm_s2, 0, 10000)\n",
    "    return s2\n",
    "\n",
    "real_s2 = np.load(r\"D:\\Code\\modis-s1-s2\\dataset\\SatelliteImages\\test\\S2\\S2_\" + str(index) + \".npy\")\n",
    "before_s2 = np.load(r\"D:\\Code\\modis-s1-s2\\dataset\\SatelliteImages\\test\\before\\before_\" + str(index) + \".npy\")\n",
    "after_s2 = np.load(r\"D:\\Code\\modis-s1-s2\\dataset\\SatelliteImages\\test\\after\\after_\" + str(index) + \".npy\")\n",
    "\n",
    "np.save(real_S2_path, denormalization(real_s2))\n",
    "np.save(before_S2_path, denormalization(before_s2))\n",
    "np.save(after_S2_path, denormalization(after_s2))"
   ]
  },
  {
   "cell_type": "code",
   "execution_count": 2,
   "metadata": {},
   "outputs": [],
   "source": [
    "from osgeo import gdal\n",
    "import numpy as np\n",
    "\n",
    "def save_numpy_as_geotiff(numpy_path, reference_tif_path, output_tif_path):\n",
    "    numpy_array = np.load(numpy_path)\n",
    "\n",
    "    # 读取参考tif文件获取地理信息\n",
    "    reference_dataset = gdal.Open(reference_tif_path)\n",
    "    reference_geotransform = reference_dataset.GetGeoTransform()\n",
    "    reference_projection = reference_dataset.GetProjection()\n",
    "\n",
    "    # 创建输出GeoTIFF文件\n",
    "    driver = gdal.GetDriverByName(\"GTiff\")\n",
    "    num_bands, rows, cols = numpy_array.shape\n",
    "    output_dataset = driver.Create(output_tif_path, cols, rows, num_bands, gdal.GDT_Int16)\n",
    "\n",
    "    # 设置地理信息\n",
    "    output_dataset.SetGeoTransform(reference_geotransform)\n",
    "    output_dataset.SetProjection(reference_projection)\n",
    "\n",
    "    # 写入数据\n",
    "    for band_num in range(num_bands):\n",
    "        output_band = output_dataset.GetRasterBand(band_num + 1)\n",
    "        output_band.WriteArray(numpy_array[band_num, :, :])\n",
    "\n",
    "    # 关闭数据集\n",
    "    output_dataset = None\n",
    "    reference_dataset = None\n",
    "\n",
    "save_numpy_as_geotiff(g_S2_path, tif_path, g_S2_tif_path)\n",
    "# save_numpy_as_geotiff(real_S2_path, tif_path, real_S2_tif_path)\n",
    "# save_numpy_as_geotiff(before_S2_path, tif_path, before_S2_tif_path)\n",
    "# save_numpy_as_geotiff(after_S2_path, tif_path, after_S2_tif_path)"
   ]
  }
 ],
 "metadata": {
  "interpreter": {
   "hash": "efc03b2bafdcf8fc645c48e52215266e32b7ecfd4791abc987b278ce04d52ee8"
  },
  "kernelspec": {
   "display_name": "Python 3.7.9 64-bit ('toolkit': conda)",
   "name": "python3"
  },
  "language_info": {
   "codemirror_mode": {
    "name": "ipython",
    "version": 3
   },
   "file_extension": ".py",
   "mimetype": "text/x-python",
   "name": "python",
   "nbconvert_exporter": "python",
   "pygments_lexer": "ipython3",
   "version": "3.7.9"
  },
  "orig_nbformat": 4
 },
 "nbformat": 4,
 "nbformat_minor": 2
}
