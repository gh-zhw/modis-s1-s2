{
 "cells": [
  {
   "cell_type": "code",
   "execution_count": 1,
   "source": [
    "index = 1\r\n",
    "MODIS_path = r\"D:\\Code\\MODIS_S1_S2\\dataset\\SatelliteImages\\test\\MODIS\\MODIS_\" + str(index) + \".npy\"\r\n",
    "S1_path = r\"D:\\Code\\MODIS_S1_S2\\dataset\\SatelliteImages\\test\\S1\\S1_\" + str(index) + \".npy\"\r\n",
    "g_S2_path = r\"D:\\Code\\MODIS_S1_S2\\output\\generated_image\\g_S2_\" + str(index) + \".npy\"\r\n",
    "g_S2_tif_path = r\"D:\\Code\\MODIS_S1_S2\\output\\generated_image\\g_S2_\" + str(index) + \".tif\"\r\n",
    "real_S2_tif_path = r\"D:\\Code\\MODIS_S1_S2\\output\\generated_image\\real_S2_\" + str(index) + \".tif\"\r\n",
    "ref_S2_path = r\"D:\\ENVI\\data\\NingBo\\NB_roi\\cropped_data\\test\\S2\\S2_\" + str(index) + \".tif\"\r\n",
    "model_path = r\"D:\\Code\\MODIS_S1_S2\\model\\pre_train\\pre_train_generator_epoch_101.pth\"\r\n",
    "\r\n",
    "print(MODIS_path)\r\n",
    "print(S1_path)\r\n",
    "print(g_S2_path)\r\n",
    "print(g_S2_tif_path)\r\n",
    "print(real_S2_tif_path)\r\n",
    "print(ref_S2_path)\r\n",
    "print(model_path)"
   ],
   "outputs": [
    {
     "output_type": "stream",
     "name": "stdout",
     "text": [
      "D:\\Code\\MODIS_S1_S2\\dataset\\SatelliteImages\\test\\MODIS\\MODIS_1.npy\n",
      "D:\\Code\\MODIS_S1_S2\\dataset\\SatelliteImages\\test\\S1\\S1_1.npy\n",
      "D:\\Code\\MODIS_S1_S2\\output\\generated_image\\g_S2_1.npy\n",
      "D:\\Code\\MODIS_S1_S2\\output\\generated_image\\g_S2_1.tif\n",
      "D:\\Code\\MODIS_S1_S2\\output\\generated_image\\real_S2_1.tif\n",
      "D:\\ENVI\\data\\NingBo\\NB_roi\\cropped_data\\test\\S2\\S2_1.tif\n",
      "D:\\Code\\MODIS_S1_S2\\model\\pre_train\\pre_train_generator_epoch_101.pth\n"
     ]
    }
   ],
   "metadata": {}
  },
  {
   "cell_type": "code",
   "execution_count": 2,
   "source": [
    "import torch\r\n",
    "import numpy as np\r\n",
    "import sys\r\n",
    "sys.path.append(r\"D:\\Code\\MODIS_S1_S2\\src\")\r\n",
    "from model import Generator\r\n",
    "\r\n",
    "def generate_image(generator, MODIS, S1, save_path=None):\r\n",
    "    S2_min = np.array([87, 210, 129, 250, 99, 54, 61, 46])[:, np.newaxis, np.newaxis]\r\n",
    "    S2_max = np.array([6884.04, 6996.04, 6944, 7146, 8000.08, 8464, 7320, 7938])[:, np.newaxis, np.newaxis]\r\n",
    "    \r\n",
    "    generator.eval()\r\n",
    "    with torch.no_grad():\r\n",
    "        g_S2 = generator(MODIS, S1).cpu().numpy()\r\n",
    "    g_S2 = np.squeeze(g_S2)\r\n",
    "    g_S2 = (g_S2 + 1) / 2\r\n",
    "    g_S2 = (S2_max - S2_min) * g_S2 + S2_min\r\n",
    "    g_S2 = np.clip(g_S2, 0, 10000)\r\n",
    "\r\n",
    "    if save_path is not None:\r\n",
    "        np.save(save_path, g_S2)\r\n",
    "    return g_S2\r\n",
    "\r\n",
    "MODIS_input = torch.from_numpy(np.reshape(np.load(MODIS_path).astype('float32'), (-1, 6, 5, 5))).cuda()\r\n",
    "S1_input = torch.from_numpy(np.reshape(np.load(S1_path).astype('float32'), (-1, 2, 250, 250))).cuda()\r\n",
    "generator = torch.load(model_path)\r\n",
    "g_S2 = generate_image(generator, MODIS_input, S1_input, g_S2_path)\r\n",
    "\r\n",
    "print(g_S2.shape)"
   ],
   "outputs": [
    {
     "output_type": "stream",
     "name": "stdout",
     "text": [
      "(8, 250, 250)\n"
     ]
    }
   ],
   "metadata": {}
  },
  {
   "cell_type": "code",
   "execution_count": 2,
   "source": [
    "from osgeo import gdal\r\n",
    "import numpy as np\r\n",
    "\r\n",
    "def select_bands_from_tif(tif_path, output_path, selected_bands):\r\n",
    "    input_ds = gdal.Open(tif_path)\r\n",
    "\r\n",
    "    if input_ds is None:\r\n",
    "        print(\"无法打开输入的TIFF文件\")\r\n",
    "        return\r\n",
    "\r\n",
    "    # 获取地理转换信息和投影信息\r\n",
    "    geotransform = input_ds.GetGeoTransform()\r\n",
    "    projection = input_ds.GetProjection()\r\n",
    "\r\n",
    "    # 获取波段数\r\n",
    "    num_bands = input_ds.RasterCount\r\n",
    "\r\n",
    "    # 确保选择的波段在有效范围内\r\n",
    "    for band in selected_bands:\r\n",
    "        if band < 1 or band > num_bands:\r\n",
    "            print(f\"选择的波段 {band} 超出范围\")\r\n",
    "            return\r\n",
    "\r\n",
    "    # 创建输出TIFF文件\r\n",
    "    driver = gdal.GetDriverByName(\"GTiff\")\r\n",
    "    output_ds = driver.Create(output_path, input_ds.RasterXSize, input_ds.RasterYSize, len(selected_bands), gdal.GDT_Float32)\r\n",
    "\r\n",
    "    # 将地理转换信息和投影信息写入输出文件\r\n",
    "    output_ds.SetGeoTransform(geotransform)\r\n",
    "    output_ds.SetProjection(projection)\r\n",
    "\r\n",
    "    # 将选择的波段写入输出文件\r\n",
    "    for idx, band in enumerate(selected_bands, start=1):\r\n",
    "        selected_band_data = input_ds.GetRasterBand(band).ReadAsArray()\r\n",
    "        output_ds.GetRasterBand(idx).WriteArray(selected_band_data)\r\n",
    "\r\n",
    "    # 关闭数据集\r\n",
    "    input_ds = None\r\n",
    "    output_ds = None\r\n",
    "\r\n",
    "def save_numpy_as_geotiff(numpy_path, reference_tif_path, output_tif_path):\r\n",
    "    numpy_array = np.load(numpy_path)\r\n",
    "\r\n",
    "    # 读取参考tif文件获取地理信息\r\n",
    "    reference_dataset = gdal.Open(reference_tif_path)\r\n",
    "    reference_geotransform = reference_dataset.GetGeoTransform()\r\n",
    "    reference_projection = reference_dataset.GetProjection()\r\n",
    "\r\n",
    "    # 创建输出GeoTIFF文件\r\n",
    "    driver = gdal.GetDriverByName(\"GTiff\")\r\n",
    "    num_bands, rows, cols = numpy_array.shape\r\n",
    "    output_dataset = driver.Create(output_tif_path, cols, rows, num_bands, gdal.GDT_Int16)\r\n",
    "\r\n",
    "    # 设置地理信息\r\n",
    "    output_dataset.SetGeoTransform(reference_geotransform)\r\n",
    "    output_dataset.SetProjection(reference_projection)\r\n",
    "\r\n",
    "    # 写入数据\r\n",
    "    for band_num in range(num_bands):\r\n",
    "        output_band = output_dataset.GetRasterBand(band_num + 1)\r\n",
    "        output_band.WriteArray(numpy_array[band_num, :, :])\r\n",
    "\r\n",
    "    # 关闭数据集\r\n",
    "    output_dataset = None\r\n",
    "    reference_dataset = None\r\n",
    "\r\n",
    "select_bands_from_tif(ref_S2_path, real_S2_tif_path, selected_bands=[1, 2, 3, 4, 7, 8, 10, 11])\r\n",
    "save_numpy_as_geotiff(g_S2_path, ref_S2_path, g_S2_tif_path)"
   ],
   "outputs": [],
   "metadata": {}
  },
  {
   "cell_type": "code",
   "execution_count": 1,
   "source": [
    "import matplotlib.pyplot as plt\r\n",
    "import numpy as np\r\n",
    "\r\n",
    "\r\n",
    "def show_image(image):\r\n",
    "\r\n",
    "    rgb = image[:3, :, :]\r\n",
    "    rgb = np.transpose(rgb, (1, 2, 0))\r\n",
    "\r\n",
    "    rgb = (rgb-np.min(rgb)) / (np.max(rgb) - np.min(rgb))\r\n",
    "\r\n",
    "    plt.imshow(rgb)\r\n",
    "    plt.show()"
   ],
   "outputs": [],
   "metadata": {}
  }
 ],
 "metadata": {
  "orig_nbformat": 4,
  "language_info": {
   "name": "python",
   "version": "3.7.9",
   "mimetype": "text/x-python",
   "codemirror_mode": {
    "name": "ipython",
    "version": 3
   },
   "pygments_lexer": "ipython3",
   "nbconvert_exporter": "python",
   "file_extension": ".py"
  },
  "kernelspec": {
   "name": "python3",
   "display_name": "Python 3.7.9 64-bit ('toolkit': conda)"
  },
  "interpreter": {
   "hash": "efc03b2bafdcf8fc645c48e52215266e32b7ecfd4791abc987b278ce04d52ee8"
  }
 },
 "nbformat": 4,
 "nbformat_minor": 2
}