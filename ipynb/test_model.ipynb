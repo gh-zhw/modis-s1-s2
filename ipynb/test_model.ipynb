{
 "cells": [
  {
   "cell_type": "code",
   "execution_count": 1,
   "source": [
    "index = 2239\r\n",
    "\r\n",
    "g_S2_path = r\"D:\\Code\\modis-s1-s2\\output\\generated_image\\g_S2_\" + str(index) + \".npy\"\r\n",
    "real_S2_path = r\"D:\\Code\\modis-s1-s2\\output\\generated_image\\real_S2_\" + str(index) + \".npy\"\r\n",
    "before_S2_path = r\"D:\\Code\\modis-s1-s2\\output\\generated_image\\before_S2_\" + str(index) + \".npy\"\r\n",
    "after_S2_path = r\"D:\\Code\\modis-s1-s2\\output\\generated_image\\after_S2_\" + str(index) + \".npy\"\r\n",
    "\r\n",
    "g_S2_tif_path = r\"D:\\Code\\modis-s1-s2\\output\\generated_image\\g_S2_\" + str(index) + \".tif\"\r\n",
    "real_S2_tif_path = r\"D:\\Code\\modis-s1-s2\\output\\generated_image\\real_S2_\" + str(index) + \".tif\"\r\n",
    "before_S2_tif_path = r\"D:\\Code\\modis-s1-s2\\output\\generated_image\\before_S2_\" + str(index) + \".tif\"\r\n",
    "after_S2_tif_path = r\"D:\\Code\\modis-s1-s2\\output\\generated_image\\after_S2_\" + str(index) + \".tif\"\r\n",
    "\r\n",
    "tif_path = r\"D:\\ENVI\\data\\NingBo\\NB_roi\\cropped_data\\test\\S2\\S2_\" + str(index) + \".tif\"\r\n",
    "model_path = r\"D:\\Code\\modis-s1-s2\\model\\wgan-2\\2\\wgan_generator_epoch_300.pth\""
   ],
   "outputs": [],
   "metadata": {}
  },
  {
   "cell_type": "code",
   "execution_count": 2,
   "source": [
    "import torch\r\n",
    "import numpy as np\r\n",
    "import sys\r\n",
    "sys.path.append(r\"D:\\Code\\modis-s1-s2\\src\")\r\n",
    "# sys.path.append(r\"C:\\Users\\Administrator\\Desktop\\kaggle\\src-3\")\r\n",
    "from model import Generator\r\n",
    "from load_dataset import get_dataset\r\n",
    "\r\n",
    "def generate_image(generator, MODIS, S1, before, after, save_path=None):\r\n",
    "    generator.eval()\r\n",
    "    with torch.no_grad():\r\n",
    "        g_S2 = generator(MODIS, S1, before, after).cpu().numpy()\r\n",
    "    g_S2 = np.squeeze(g_S2)\r\n",
    "    g_S2 = (g_S2 + 1) / 2\r\n",
    "    g_S2 = (10000 - 0) * g_S2 + 0\r\n",
    "    g_S2 = np.clip(g_S2, 0, 10000)\r\n",
    "\r\n",
    "    if save_path is not None:\r\n",
    "        np.save(save_path, g_S2)\r\n",
    "    return g_S2\r\n",
    "\r\n",
    "coupled_data = get_dataset()[2][index-2194]\r\n",
    "MODIS_image, S1_image, S2_image, before_image, after_image = coupled_data\r\n",
    "MODIS_image = MODIS_image.reshape((1, 6, 5, 5)).cuda()\r\n",
    "S1_image = S1_image.reshape((1, 2, 250, 250)).cuda()\r\n",
    "real_S2_image = S2_image.reshape((1, 8, 250, 250)).cuda()\r\n",
    "before_image = before_image.reshape((1, 8, 250, 250)).cuda()\r\n",
    "after_image = after_image.reshape((1, 8, 250, 250)).cuda()\r\n",
    "generator = torch.load(model_path)\r\n",
    "g_S2 = generate_image(generator, MODIS_image, S1_image, before_image, after_image, g_S2_path)\r\n",
    "\r\n",
    "print(g_S2.shape)"
   ],
   "outputs": [
    {
     "output_type": "stream",
     "name": "stderr",
     "text": [
      "D:\\Anaconda3\\envs\\dl\\lib\\site-packages\\torchvision\\io\\image.py:11: UserWarning: Failed to load image Python extension: Could not find module 'D:\\Anaconda3\\envs\\dl\\Lib\\site-packages\\torchvision\\image.pyd' (or one of its dependencies). Try using the full path with constructor syntax.\n",
      "  warn(f\"Failed to load image Python extension: {e}\")\n"
     ]
    },
    {
     "output_type": "stream",
     "name": "stdout",
     "text": [
      "(8, 250, 250)\n"
     ]
    }
   ],
   "metadata": {}
  },
  {
   "cell_type": "code",
   "execution_count": 3,
   "source": [
    "import numpy as np\r\n",
    "\r\n",
    "def denormalization(norm_s2):\r\n",
    "    norm_s2 = (10000 - 0) * norm_s2 + 0\r\n",
    "    s2 = np.clip(norm_s2, 0, 10000)\r\n",
    "    return s2\r\n",
    "\r\n",
    "real_s2 = np.load(r\"D:\\Code\\modis-s1-s2\\dataset\\SatelliteImages\\test\\S2\\S2_\" + str(index) + \".npy\")\r\n",
    "before_s2 = np.load(r\"D:\\Code\\modis-s1-s2\\dataset\\SatelliteImages\\test\\before\\before_\" + str(index) + \".npy\")\r\n",
    "after_s2 = np.load(r\"D:\\Code\\modis-s1-s2\\dataset\\SatelliteImages\\test\\after\\after_\" + str(index) + \".npy\")\r\n",
    "\r\n",
    "np.save(real_S2_path, denormalization(real_s2))\r\n",
    "np.save(before_S2_path, denormalization(before_s2))\r\n",
    "np.save(after_S2_path, denormalization(after_s2))"
   ],
   "outputs": [],
   "metadata": {}
  },
  {
   "cell_type": "code",
   "execution_count": 2,
   "source": [
    "from osgeo import gdal\r\n",
    "import numpy as np\r\n",
    "\r\n",
    "def save_numpy_as_geotiff(numpy_path, reference_tif_path, output_tif_path):\r\n",
    "    numpy_array = np.load(numpy_path)\r\n",
    "\r\n",
    "    # 读取参考tif文件获取地理信息\r\n",
    "    reference_dataset = gdal.Open(reference_tif_path)\r\n",
    "    reference_geotransform = reference_dataset.GetGeoTransform()\r\n",
    "    reference_projection = reference_dataset.GetProjection()\r\n",
    "\r\n",
    "    # 创建输出GeoTIFF文件\r\n",
    "    driver = gdal.GetDriverByName(\"GTiff\")\r\n",
    "    num_bands, rows, cols = numpy_array.shape\r\n",
    "    output_dataset = driver.Create(output_tif_path, cols, rows, num_bands, gdal.GDT_Int16)\r\n",
    "\r\n",
    "    # 设置地理信息\r\n",
    "    output_dataset.SetGeoTransform(reference_geotransform)\r\n",
    "    output_dataset.SetProjection(reference_projection)\r\n",
    "\r\n",
    "    # 写入数据\r\n",
    "    for band_num in range(num_bands):\r\n",
    "        output_band = output_dataset.GetRasterBand(band_num + 1)\r\n",
    "        output_band.WriteArray(numpy_array[band_num, :, :])\r\n",
    "\r\n",
    "    # 关闭数据集\r\n",
    "    output_dataset = None\r\n",
    "    reference_dataset = None\r\n",
    "\r\n",
    "save_numpy_as_geotiff(g_S2_path, tif_path, g_S2_tif_path)\r\n",
    "# save_numpy_as_geotiff(real_S2_path, tif_path, real_S2_tif_path)\r\n",
    "# save_numpy_as_geotiff(before_S2_path, tif_path, before_S2_tif_path)\r\n",
    "# save_numpy_as_geotiff(after_S2_path, tif_path, after_S2_tif_path)"
   ],
   "outputs": [],
   "metadata": {}
  }
 ],
 "metadata": {
  "orig_nbformat": 4,
  "language_info": {
   "name": "python",
   "version": "3.7.9",
   "mimetype": "text/x-python",
   "codemirror_mode": {
    "name": "ipython",
    "version": 3
   },
   "pygments_lexer": "ipython3",
   "nbconvert_exporter": "python",
   "file_extension": ".py"
  },
  "kernelspec": {
   "name": "python3",
   "display_name": "Python 3.7.9 64-bit ('toolkit': conda)"
  },
  "interpreter": {
   "hash": "efc03b2bafdcf8fc645c48e52215266e32b7ecfd4791abc987b278ce04d52ee8"
  }
 },
 "nbformat": 4,
 "nbformat_minor": 2
}