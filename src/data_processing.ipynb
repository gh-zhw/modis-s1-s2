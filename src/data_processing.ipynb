{
 "cells": [
  {
   "cell_type": "code",
   "execution_count": 1,
   "source": [
    "from osgeo import gdal\r\n",
    "import numpy as np"
   ],
   "outputs": [],
   "metadata": {}
  },
  {
   "cell_type": "code",
   "execution_count": 39,
   "source": [
    "count = 0"
   ],
   "outputs": [],
   "metadata": {}
  },
  {
   "cell_type": "code",
   "execution_count": 40,
   "source": [
    "def crop_by_slide_window(image_path, output_folder, window_size, step_size, image_class, save_as_array=False):\r\n",
    "    global count\r\n",
    "\r\n",
    "    ds = gdal.Open(image_path)\r\n",
    "    if ds is None:\r\n",
    "        return False\r\n",
    "\r\n",
    "    # 获取图像的宽度和高度\r\n",
    "    width = ds.RasterXSize\r\n",
    "    height = ds.RasterYSize\r\n",
    "\r\n",
    "    # 计算图像平均值、标准差\r\n",
    "    whole_image = ds.ReadAsArray()\r\n",
    "    mean = np.mean(whole_image.reshape(whole_image.shape[0], -1), axis=1)\r\n",
    "    std = np.std(whole_image.reshape(whole_image.shape[0], -1), axis=1)\r\n",
    "\r\n",
    "    # 计算滑动窗口的数量\r\n",
    "    num_windows_width = (width - window_size) // step_size + 1\r\n",
    "    num_windows_height = (height - window_size) // step_size + 1\r\n",
    "\r\n",
    "    # 对每个滑动窗口进行裁剪\r\n",
    "    for i in range(num_windows_width):\r\n",
    "        for j in range(num_windows_height):\r\n",
    "            # 计算滑动窗口的起始坐标\r\n",
    "            start_x = i * step_size\r\n",
    "            start_y = j * step_size\r\n",
    "\r\n",
    "            # 读取滑动窗口中的数据\r\n",
    "            image = ds.ReadAsArray(start_x, start_y, window_size, window_size)\r\n",
    "\r\n",
    "            # MODIS产品无需去异常值\r\n",
    "            if image_class != \"MODIS\":\r\n",
    "                # 3σ法则去除异常值\r\n",
    "                for band in range(image.shape[0]):\r\n",
    "                    image[band, :, :] = np.clip(image[band, :, :], mean[band]-3*std[band], mean[band]+3*std[band])\r\n",
    "            \r\n",
    "            if save_as_array:\r\n",
    "                if image_class == \"S2\":\r\n",
    "                    selected_bands = [1, 2, 3, 4, 7, 8, 10, 11]\r\n",
    "                elif image_class == \"S1\":\r\n",
    "                    selected_bands = [0, 1]\r\n",
    "                elif image_class == \"MODIS\":\r\n",
    "                    selected_bands = [0, 1, 2, 3, 5, 6]\r\n",
    "\r\n",
    "                image = image[selected_bands, :, :]\r\n",
    "                # S2: (8, 250, 250), S1: (2, 250, 250), MODIS: (6, 5, 5)\r\n",
    "                np.save(output_folder + image_class + f\"_{count}.npy\", image)\r\n",
    "\r\n",
    "            else:\r\n",
    "                # 创建新的tif文件来保存裁剪后的图像\r\n",
    "                driver = gdal.GetDriverByName('GTiff')\r\n",
    "                out_ds = driver.Create(output_folder + image_class + f\"_{count}.tif\", window_size, window_size, ds.RasterCount, gdal.GDT_Int16)\r\n",
    "\r\n",
    "                # 将裁剪后的图像数据写入新的tif文件\r\n",
    "                for k in range(ds.RasterCount):\r\n",
    "                    out_band = out_ds.GetRasterBand(k + 1)\r\n",
    "                    out_band.WriteArray(image[k])\r\n",
    "\r\n",
    "                # 设置新tif文件的地理变换参数和投影信息\r\n",
    "                geo_transform = list(ds.GetGeoTransform())\r\n",
    "                geo_transform[0] += start_x * geo_transform[1]\r\n",
    "                geo_transform[3] += start_y * geo_transform[5]\r\n",
    "                out_ds.SetGeoTransform(geo_transform)\r\n",
    "                out_ds.SetProjection(ds.GetProjection())\r\n",
    "\r\n",
    "                # 关闭新tif文件\r\n",
    "                out_ds = None\r\n",
    "\r\n",
    "            count += 1\r\n",
    "\r\n",
    "    # 关闭原始tif文件\r\n",
    "    ds = None\r\n",
    "\r\n",
    "    return True"
   ],
   "outputs": [],
   "metadata": {}
  },
  {
   "cell_type": "code",
   "execution_count": 41,
   "source": [
    "import pandas as pd\r\n",
    "\r\n",
    "xlsx_path = r\"D:\\Code\\MODIS_S1_S2\\dataset\\数据时间匹配.xlsx\"\r\n",
    "\r\n",
    "# 读取xlsx文件\r\n",
    "df = pd.read_excel(xlsx_path)\r\n",
    "\r\n",
    "S2_date = [str(date) for date in df['S2'].tolist()]\r\n",
    "MODIS_date = [str(date) for date in df['MODIS'].tolist()]\r\n",
    "S1_date = [str(date) for date in df['S1'].tolist()]\r\n",
    "\r\n",
    "S2_filename = [r\"D:\\ENVI\\data\\NingBo\\NB_roi_S2\\well_image\\image\\NB_S2_\" + date + \".tif\" for date in S2_date]\r\n",
    "MODIS_filename = [r\"D:\\ENVI\\data\\NingBo\\NB_roi_MODIS\\MODIS_images\\NB_MODIS_\" + date + \".tif\" for date in MODIS_date]\r\n",
    "S1_filename = [r\"D:\\ENVI\\data\\NingBo\\NB_roi_S1\\S1_images\\NB_S1_\" + date + \".tif\" for date in S1_date]\r\n"
   ],
   "outputs": [],
   "metadata": {}
  },
  {
   "cell_type": "code",
   "execution_count": 42,
   "source": [
    "def batch_crop_image(image_filename_list, output_folder, window_size, step_size, image_class):\r\n",
    "    global count\r\n",
    "    count = 0\r\n",
    "    for i, image_path in enumerate(image_filename_list):\r\n",
    "        if not crop_by_slide_window(image_path, output_folder, window_size, step_size, image_class, save_as_array=True):\r\n",
    "            print(\"fail to open \" + image_path)\r\n",
    "            count = 0\r\n",
    "            return\r\n",
    "    count = 0\r\n",
    "    print(\"accomplish!\")"
   ],
   "outputs": [],
   "metadata": {}
  },
  {
   "cell_type": "code",
   "execution_count": 43,
   "source": [
    "# Sentinel-2\r\n",
    "batch_crop_image(S2_filename, output_folder=r\"D:\\Code\\MODIS_S1_S2\\dataset\\Sentinel-2\\\\\", window_size=250, step_size=150, image_class=\"S2\")"
   ],
   "outputs": [
    {
     "output_type": "stream",
     "name": "stdout",
     "text": [
      "accomplish!\n"
     ]
    }
   ],
   "metadata": {}
  },
  {
   "cell_type": "code",
   "execution_count": 44,
   "source": [
    "# Sentinel-1\r\n",
    "batch_crop_image(S1_filename, output_folder=r\"D:\\Code\\MODIS_S1_S2\\dataset\\Sentinel-1\\\\\", window_size=250, step_size=150, image_class=\"S1\")"
   ],
   "outputs": [
    {
     "output_type": "stream",
     "name": "stdout",
     "text": [
      "accomplish!\n"
     ]
    }
   ],
   "metadata": {}
  },
  {
   "cell_type": "code",
   "execution_count": 31,
   "source": [
    "# MODIS\r\n",
    "batch_crop_image(MODIS_filename, output_folder=r\"D:\\Code\\MODIS_S1_S2\\dataset\\MODIS\\\\\", window_size=5, step_size=3, image_class=\"MODIS\")"
   ],
   "outputs": [
    {
     "output_type": "stream",
     "name": "stdout",
     "text": [
      "accomplish!\n"
     ]
    }
   ],
   "metadata": {}
  },
  {
   "cell_type": "code",
   "execution_count": 45,
   "source": [
    "# crop_by_slide_window(S2_filename[0], r\"D:\\Code\\MODIS_S1_S2\\dataset\\cropped_image\\\\\", 250, 150, \"S2\")"
   ],
   "outputs": [
    {
     "output_type": "execute_result",
     "data": {
      "text/plain": [
       "True"
      ]
     },
     "metadata": {},
     "execution_count": 45
    }
   ],
   "metadata": {}
  },
  {
   "cell_type": "code",
   "execution_count": 16,
   "source": [
    "image = np.load(\"../dataset/Sentinel-2/S2_100.npy\")\r\n",
    "\r\n",
    "min_val = np.min(image)\r\n",
    "max_val = np.max(image)\r\n",
    "mean = np.mean(image.reshape(-1))\r\n",
    "std = np.std(image.reshape(-1))\r\n",
    "\r\n",
    "print(min_val, max_val, mean, std)"
   ],
   "outputs": [
    {
     "output_type": "stream",
     "name": "stdout",
     "text": [
      "0.014568317742677504 0.7682870725348873 0.1946172994939426 0.08272557610078235\n"
     ]
    }
   ],
   "metadata": {}
  },
  {
   "cell_type": "code",
   "execution_count": 46,
   "source": [
    "for i in range(1512):\r\n",
    "    image = np.load(\"../dataset/Sentinel-2/S2_\" + str(i) + \".npy\")\r\n",
    "    min_val = np.min(image)\r\n",
    "    max_val = np.max(image)\r\n",
    "    if  min_val  == 1:\r\n",
    "        print(i)"
   ],
   "outputs": [
    {
     "output_type": "stream",
     "name": "stdout",
     "text": [
      "106\n",
      "107\n",
      "109\n",
      "110\n",
      "111\n",
      "112\n",
      "113\n",
      "114\n",
      "115\n",
      "116\n",
      "117\n",
      "118\n",
      "119\n",
      "123\n",
      "124\n",
      "143\n",
      "146\n",
      "228\n",
      "229\n",
      "267\n",
      "268\n",
      "270\n",
      "271\n",
      "282\n",
      "300\n",
      "301\n",
      "304\n",
      "311\n",
      "312\n",
      "313\n",
      "314\n",
      "477\n",
      "479\n",
      "480\n",
      "482\n",
      "533\n",
      "536\n",
      "546\n",
      "548\n",
      "549\n",
      "551\n",
      "560\n",
      "563\n",
      "566\n",
      "567\n",
      "568\n",
      "569\n",
      "572\n",
      "578\n",
      "581\n",
      "584\n",
      "585\n",
      "586\n",
      "638\n",
      "641\n",
      "711\n",
      "775\n",
      "776\n",
      "882\n",
      "883\n",
      "884\n",
      "886\n",
      "887\n",
      "888\n",
      "889\n",
      "890\n",
      "891\n",
      "894\n",
      "895\n",
      "896\n",
      "897\n",
      "898\n",
      "899\n",
      "900\n",
      "901\n",
      "902\n",
      "955\n",
      "984\n",
      "985\n",
      "987\n",
      "988\n",
      "990\n",
      "991\n",
      "1142\n",
      "1145\n"
     ]
    }
   ],
   "metadata": {}
  }
 ],
 "metadata": {
  "orig_nbformat": 4,
  "language_info": {
   "name": "python",
   "version": "3.7.9",
   "mimetype": "text/x-python",
   "codemirror_mode": {
    "name": "ipython",
    "version": 3
   },
   "pygments_lexer": "ipython3",
   "nbconvert_exporter": "python",
   "file_extension": ".py"
  },
  "kernelspec": {
   "name": "python3",
   "display_name": "Python 3.7.9 64-bit ('toolkit': conda)"
  },
  "interpreter": {
   "hash": "efc03b2bafdcf8fc645c48e52215266e32b7ecfd4791abc987b278ce04d52ee8"
  }
 },
 "nbformat": 4,
 "nbformat_minor": 2
}